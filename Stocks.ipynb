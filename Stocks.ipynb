{
  "nbformat": 4,
  "nbformat_minor": 0,
  "metadata": {
    "colab": {
      "name": "Stocks.ipynb",
      "provenance": [],
      "collapsed_sections": [
        "frHlnpFizWMX",
        "rHB0l21IjUtg",
        "uofaLgpSsq2R"
      ]
    },
    "kernelspec": {
      "name": "python3",
      "display_name": "Python 3"
    },
    "language_info": {
      "name": "python"
    }
  },
  "cells": [
    {
      "cell_type": "markdown",
      "source": [
        "### **Задачи:** <br>\n",
        "\n",
        "*   Определение зависимости между понятностью тиккера и ее годовой доходности<br>\n",
        "*   Рассмотрение зависимости положения первой буквы тиккера в алфавите и ее годовой доходности\n",
        "\n"
      ],
      "metadata": {
        "id": "Y5C0IJkzz0Z4"
      }
    },
    {
      "cell_type": "markdown",
      "source": [
        "### Подгрузка библиотек и необходимых для работы данных"
      ],
      "metadata": {
        "id": "frHlnpFizWMX"
      }
    },
    {
      "cell_type": "markdown",
      "source": [
        "\n",
        "*   Подгрузка библиотек\n",
        "\n",
        "\n"
      ],
      "metadata": {
        "id": "nomJttlLyFG0"
      }
    },
    {
      "cell_type": "code",
      "execution_count": 1,
      "metadata": {
        "id": "js8CiwxofAPG"
      },
      "outputs": [],
      "source": [
        "import pandas as pd\n",
        "import numpy as np\n",
        "from matplotlib import pyplot as plt\n",
        "import seaborn as sns\n",
        "\n",
        "#from pandas_datareader import DataReader\n",
        "from datetime import datetime\n",
        "from datetime import date"
      ]
    },
    {
      "cell_type": "markdown",
      "source": [
        "*   Подгрузка необходимых данных \n",
        "\n",
        "\n"
      ],
      "metadata": {
        "id": "VjGtHA9pycep"
      }
    },
    {
      "cell_type": "code",
      "source": [
        "from google.colab import drive\n",
        "drive.mount('/content/drive')"
      ],
      "metadata": {
        "colab": {
          "base_uri": "https://localhost:8080/"
        },
        "id": "iBHbD7ygg9Kr",
        "outputId": "a53062e9-08dd-442d-e698-a88770ee2dba"
      },
      "execution_count": 2,
      "outputs": [
        {
          "output_type": "stream",
          "name": "stdout",
          "text": [
            "Mounted at /content/drive\n"
          ]
        }
      ]
    },
    {
      "cell_type": "code",
      "source": [
        "import sys"
      ],
      "metadata": {
        "id": "cP1pLQIog-mt"
      },
      "execution_count": 3,
      "outputs": []
    },
    {
      "cell_type": "code",
      "source": [
        "sys.path.append('/content/drive/MyDrive/Fin_lab')"
      ],
      "metadata": {
        "id": "r5AHlZashAPj"
      },
      "execution_count": 4,
      "outputs": []
    },
    {
      "cell_type": "markdown",
      "source": [
        "Список из 43 тиккеров Мосбиржи "
      ],
      "metadata": {
        "id": "taCkoTAFyJ1V"
      }
    },
    {
      "cell_type": "code",
      "source": [
        "tickers = ['GAZP', 'SBER', 'SBERP', 'LKOH', 'YNDX', 'GMKN', 'NVTK', 'TCSG', 'ROSN', 'POLY', 'PLZL', 'ALRS', 'MGNT', 'TATN', 'CHMF', 'NLMK', \\\n",
        "           'SNGS', 'FIVE', 'MTSS', 'MOEX', 'VTBR', 'SNGSP', 'OZON', 'MAIL', 'FIXP', 'PIKK', 'IRAO', 'PHOR', 'MAGN', 'RUAL', 'HHRU', 'AFKS', \\\n",
        "           'TRNFP','HYDR', 'RTKM', 'DSKY', 'AFLT', 'TATNP', 'GLTR', 'POGR', 'CBOM', 'FEES', 'LSRG']"
      ],
      "metadata": {
        "id": "Qd8LlOIefZ72"
      },
      "execution_count": 5,
      "outputs": []
    },
    {
      "cell_type": "markdown",
      "source": [
        "Подгрузка исторических данных акций"
      ],
      "metadata": {
        "id": "lwSHYdtlyWvH"
      }
    },
    {
      "cell_type": "code",
      "source": [
        "from inherited_classes.inh_getting_market_data_universal import MoscowExchangeData\n",
        "\n",
        "\n",
        "#tickers = list(set_all_russian_stocks)\n",
        "\n",
        "dict_urls = {'foreign_shares': 'https://iss.moex.com/iss/history/engines/stock/markets/foreignshares/securities/',\n",
        "             'russian_shares': 'https://iss.moex.com/iss/history/engines/stock/markets/shares/boards/tqbr/securities/',\n",
        "             #'russian_shares': 'http://iss.moex.com/iss/history/engines/stock/markets/shares/boards/tqbe/securities/',\n",
        "            'indices': 'https://iss.moex.com/iss/history/engines/stock/markets/index/boards/SNDX/securities/'}\n",
        "\n",
        "dict_slices = {'foreign_shares': -8,\n",
        "             'russian_shares': -2,\n",
        "            'indices': -2}\n",
        "\n",
        "start_date = '2013-03-25'\n",
        "finish_date = '2021-04-15'\n",
        "\n",
        "market_data_getter = MoscowExchangeData(dict_urls, dict_slices, tickers, start_date, finish_date)\n",
        "res = market_data_getter.get_data(market='russian_shares')"
      ],
      "metadata": {
        "id": "8xfXKagDfaA-"
      },
      "execution_count": 6,
      "outputs": []
    },
    {
      "cell_type": "markdown",
      "source": [
        "### Разметка"
      ],
      "metadata": {
        "id": "rHB0l21IjUtg"
      }
    },
    {
      "cell_type": "markdown",
      "source": [
        "Разметка тиккеров на легкость их восприятия, <br> \n",
        "где 1 - понятный разметчику,\n",
        "0 - непонятный \n"
      ],
      "metadata": {
        "id": "szk2j-yLi8GL"
      }
    },
    {
      "cell_type": "code",
      "source": [
        "tag = pd.DataFrame(index=tickers, columns=['tagger_1', 'tagger_2', 'tagger_3'])"
      ],
      "metadata": {
        "id": "LGErvFUJjqSv"
      },
      "execution_count": 7,
      "outputs": []
    },
    {
      "cell_type": "code",
      "source": [
        "tag['tagger_1'] = [1, 1, 0, 0, 1, 0, 1, 0, 0, 1, 0, 0, 0, 0, 0, 1, 1, 1, 0, 1, 1, 0, 1, 1, 1, 1, 1, 1, 0, 0, 0, 0, 0, 1, 1, 0, 0, 1, 0, 0, 0, 1, 1]\n",
        "tag['tagger_2'] = [1, 1, 1, 0, 1, 0, 0, 0, 1, 1, 0, 0, 1, 0, 0, 1, 0, 1, 1, 1, 0, 0, 1, 1, 0, 1, 0, 0, 1, 0, 0, 0, 0, 1, 0, 0, 0, 0, 0, 0, 1, 1, 0]\n",
        "tag['tagger_3'] = list('1111111111011101001110111111111101001100001')\n",
        "tag['tagger_3'] = tag['tagger_3'].apply(int)"
      ],
      "metadata": {
        "id": "ji0q2C7BjTb4"
      },
      "execution_count": 8,
      "outputs": []
    },
    {
      "cell_type": "code",
      "source": [
        "for i in list(tag.index):\n",
        "  if list(tag.loc[i]).count(1) == 3:\n",
        "    tag.loc[i, 'overall'] = int(round(1, 0))\n",
        "  elif list(tag.loc[i]).count(1) == 2:\n",
        "    tag.loc[i, 'overall'] = int(round(1, 0))\n",
        "  else:\n",
        "    tag.loc[i, 'overall'] = int(round(0, 0))"
      ],
      "metadata": {
        "id": "CwReRpVUjmrC"
      },
      "execution_count": 9,
      "outputs": []
    },
    {
      "cell_type": "code",
      "source": [
        "tag = tag.astype(int)"
      ],
      "metadata": {
        "id": "4jJr8izBjtMy"
      },
      "execution_count": 10,
      "outputs": []
    },
    {
      "cell_type": "code",
      "source": [
        "tag.head()"
      ],
      "metadata": {
        "colab": {
          "base_uri": "https://localhost:8080/"
        },
        "id": "BGJpAS_Ojukp",
        "outputId": "af187a3b-c655-4a00-f373-b737e4fd3b79"
      },
      "execution_count": 11,
      "outputs": [
        {
          "output_type": "execute_result",
          "data": {
            "text/html": [
              "<div>\n",
              "<style scoped>\n",
              "    .dataframe tbody tr th:only-of-type {\n",
              "        vertical-align: middle;\n",
              "    }\n",
              "\n",
              "    .dataframe tbody tr th {\n",
              "        vertical-align: top;\n",
              "    }\n",
              "\n",
              "    .dataframe thead th {\n",
              "        text-align: right;\n",
              "    }\n",
              "</style>\n",
              "<table border=\"1\" class=\"dataframe\">\n",
              "  <thead>\n",
              "    <tr style=\"text-align: right;\">\n",
              "      <th></th>\n",
              "      <th>tagger_1</th>\n",
              "      <th>tagger_2</th>\n",
              "      <th>tagger_3</th>\n",
              "      <th>overall</th>\n",
              "    </tr>\n",
              "  </thead>\n",
              "  <tbody>\n",
              "    <tr>\n",
              "      <th>GAZP</th>\n",
              "      <td>1</td>\n",
              "      <td>1</td>\n",
              "      <td>1</td>\n",
              "      <td>1</td>\n",
              "    </tr>\n",
              "    <tr>\n",
              "      <th>SBER</th>\n",
              "      <td>1</td>\n",
              "      <td>1</td>\n",
              "      <td>1</td>\n",
              "      <td>1</td>\n",
              "    </tr>\n",
              "    <tr>\n",
              "      <th>SBERP</th>\n",
              "      <td>0</td>\n",
              "      <td>1</td>\n",
              "      <td>1</td>\n",
              "      <td>1</td>\n",
              "    </tr>\n",
              "    <tr>\n",
              "      <th>LKOH</th>\n",
              "      <td>0</td>\n",
              "      <td>0</td>\n",
              "      <td>1</td>\n",
              "      <td>0</td>\n",
              "    </tr>\n",
              "    <tr>\n",
              "      <th>YNDX</th>\n",
              "      <td>1</td>\n",
              "      <td>1</td>\n",
              "      <td>1</td>\n",
              "      <td>1</td>\n",
              "    </tr>\n",
              "  </tbody>\n",
              "</table>\n",
              "</div>"
            ],
            "text/plain": [
              "       tagger_1  tagger_2  tagger_3  overall\n",
              "GAZP          1         1         1        1\n",
              "SBER          1         1         1        1\n",
              "SBERP         0         1         1        1\n",
              "LKOH          0         0         1        0\n",
              "YNDX          1         1         1        1"
            ]
          },
          "metadata": {},
          "execution_count": 11
        }
      ]
    },
    {
      "cell_type": "markdown",
      "source": [
        "Удаление тиккеров POGR, GLTR, HHRU, FIXP, так как для них недостаточно данных (на IPO менее трех лет) <br>\n",
        "Анализ будет проводиться на 39 акций, размещенных на Мосбирже"
      ],
      "metadata": {
        "id": "Ru5Zy59DkCIZ"
      }
    },
    {
      "cell_type": "code",
      "source": [
        "tag.drop(['POGR', 'GLTR', 'HHRU', 'FIXP'], axis=0, inplace=True)"
      ],
      "metadata": {
        "id": "Oq6Z8Scmj0nJ"
      },
      "execution_count": 12,
      "outputs": []
    },
    {
      "cell_type": "markdown",
      "source": [
        "Создание списка с понятными тиккерами"
      ],
      "metadata": {
        "id": "MQMH7BBCpTGk"
      }
    },
    {
      "cell_type": "code",
      "source": [
        "comprehensible = list(tag.query('overall == 1').index)"
      ],
      "metadata": {
        "id": "bqURKdC0pR4D"
      },
      "execution_count": 13,
      "outputs": []
    },
    {
      "cell_type": "markdown",
      "source": [
        "Создание списка с непонятными тиккерами"
      ],
      "metadata": {
        "id": "45yh0SD4pYZb"
      }
    },
    {
      "cell_type": "code",
      "source": [
        " incomprehensible = list(tag.query('overall == 0').index)"
      ],
      "metadata": {
        "id": "9fgcLMbOpSA6"
      },
      "execution_count": 14,
      "outputs": []
    },
    {
      "cell_type": "markdown",
      "source": [
        "Классы сбалансированны"
      ],
      "metadata": {
        "id": "VqOfPdSnj5tp"
      }
    },
    {
      "cell_type": "code",
      "source": [
        "list(tag['overall']).count(1) / 39"
      ],
      "metadata": {
        "colab": {
          "base_uri": "https://localhost:8080/"
        },
        "id": "hA49O_mXjv_S",
        "outputId": "e7d461d4-4ea9-4dc7-e6ce-22cba2467fac"
      },
      "execution_count": 15,
      "outputs": [
        {
          "output_type": "execute_result",
          "data": {
            "text/plain": [
              "0.5897435897435898"
            ]
          },
          "metadata": {},
          "execution_count": 15
        }
      ]
    },
    {
      "cell_type": "markdown",
      "source": [
        "### Определение зависимости между понятностью тиккера и ее годовой доходности"
      ],
      "metadata": {
        "id": "kuSZvIlbxqMq"
      }
    },
    {
      "cell_type": "markdown",
      "source": [
        "Создание датафреймв с акциями и ценами закрытия "
      ],
      "metadata": {
        "id": "coKz_xNUk17L"
      }
    },
    {
      "cell_type": "code",
      "source": [
        "df = res['GAZP'][['TRADEDATE', 'CLOSE']]\n",
        "\n",
        "for i in list(res.keys())[1:]:\n",
        "    ticker = res[i][['TRADEDATE', 'CLOSE']]\n",
        "    df = df.merge(ticker, how='outer', on='TRADEDATE')\n",
        "df.columns = ['TRADEDATE'] + list(res.keys())\n",
        "df['TRADEDATE'] = pd.to_datetime(df['TRADEDATE'])\n",
        "df['TRADEDATE'] = sorted(df['TRADEDATE'])"
      ],
      "metadata": {
        "id": "pd1v4uphj4Jf"
      },
      "execution_count": 16,
      "outputs": []
    },
    {
      "cell_type": "code",
      "source": [
        "df = df.replace('', np.nan)"
      ],
      "metadata": {
        "id": "Vs5KXwwNk6M2"
      },
      "execution_count": 17,
      "outputs": []
    },
    {
      "cell_type": "code",
      "source": [
        "df.drop(['POGR', 'GLTR', 'HHRU', 'FIXP'], axis=1, inplace=True)"
      ],
      "metadata": {
        "id": "bE30bGIolAa_"
      },
      "execution_count": 18,
      "outputs": []
    },
    {
      "cell_type": "code",
      "source": [
        "df.loc[:, 'GAZP':] = df.loc[:, 'GAZP':].astype(float)"
      ],
      "metadata": {
        "id": "tRrGX3D1lMdN"
      },
      "execution_count": 19,
      "outputs": []
    },
    {
      "cell_type": "markdown",
      "source": [
        "Создание таблицы с годовой доходностью акций"
      ],
      "metadata": {
        "id": "kcRTqIZbltjx"
      }
    },
    {
      "cell_type": "code",
      "source": [
        "df_annual = pd.DataFrame((df.query(f\"TRADEDATE == Timestamp('2013-12-30 00:00:00')\").iloc[0, 1:]  - df.query(f\"TRADEDATE == Timestamp('2013-03-25 00:00:00')\").iloc[0, 1:]) / df.query(f\"TRADEDATE == Timestamp('2013-03-25 00:00:00')\").iloc[0, 1:]).T\n",
        "for year in range(2014, 2021):\n",
        "  if year == 2017:\n",
        "      df_annual = df_annual.append(pd.DataFrame(((df.query(f\"TRADEDATE == Timestamp('{year}-12-29 00:00:00')\").iloc[0, 1:] - df.query(f\"TRADEDATE == Timestamp('{year}-01-06 00:00:00')\").iloc[0, 1:]) / df.query(f\"TRADEDATE == Timestamp('{year}-01-06 00:00:00')\").iloc[0, 1:])).T)\n",
        "  elif year == 2018:\n",
        "      df_annual = df_annual.append(pd.DataFrame(((df.query(f\"TRADEDATE == Timestamp('{year}-12-29 00:00:00')\").iloc[0, 1:] - df.query(f\"TRADEDATE == Timestamp('{year}-01-03 00:00:00')\").iloc[0, 1:]) / df.query(f\"TRADEDATE == Timestamp('{year}-01-03 00:00:00')\").iloc[0, 1:])).T)\n",
        "  elif year == 2019:\n",
        "      df_annual = df_annual.append(pd.DataFrame(((df.query(f\"TRADEDATE == Timestamp('{year}-12-30 00:00:00')\").iloc[0, 1:] - df.query(f\"TRADEDATE == Timestamp('{year}-01-03 00:00:00')\").iloc[0, 1:]) / df.query(f\"TRADEDATE == Timestamp('{year}-01-03 00:00:00')\").iloc[0, 1:])).T)\n",
        "  else:\n",
        "      df_annual = df_annual.append(pd.DataFrame(((df.query(f\"TRADEDATE == Timestamp('{year}-12-30 00:00:00')\").iloc[0, 1:] - df.query(f\"TRADEDATE == Timestamp('{year}-01-06 00:00:00')\").iloc[0, 1:]) / df.query(f\"TRADEDATE == Timestamp('{year}-01-06 00:00:00')\").iloc[0, 1:])).T)\n",
        "\n",
        "df_annual.index = [x for x in range(2013, 2021)]"
      ],
      "metadata": {
        "id": "sK74yTuYlQcd"
      },
      "execution_count": 20,
      "outputs": []
    },
    {
      "cell_type": "code",
      "source": [
        "df_annual.head()"
      ],
      "metadata": {
        "colab": {
          "base_uri": "https://localhost:8080/",
          "height": 226
        },
        "id": "pxM4SJnJl0aH",
        "outputId": "67bc09bc-85df-4056-b777-39014e297921"
      },
      "execution_count": 21,
      "outputs": [
        {
          "output_type": "execute_result",
          "data": {
            "text/html": [
              "<div>\n",
              "<style scoped>\n",
              "    .dataframe tbody tr th:only-of-type {\n",
              "        vertical-align: middle;\n",
              "    }\n",
              "\n",
              "    .dataframe tbody tr th {\n",
              "        vertical-align: top;\n",
              "    }\n",
              "\n",
              "    .dataframe thead th {\n",
              "        text-align: right;\n",
              "    }\n",
              "</style>\n",
              "<table border=\"1\" class=\"dataframe\">\n",
              "  <thead>\n",
              "    <tr style=\"text-align: right;\">\n",
              "      <th></th>\n",
              "      <th>GAZP</th>\n",
              "      <th>SBER</th>\n",
              "      <th>SBERP</th>\n",
              "      <th>LKOH</th>\n",
              "      <th>YNDX</th>\n",
              "      <th>GMKN</th>\n",
              "      <th>NVTK</th>\n",
              "      <th>TCSG</th>\n",
              "      <th>ROSN</th>\n",
              "      <th>POLY</th>\n",
              "      <th>PLZL</th>\n",
              "      <th>ALRS</th>\n",
              "      <th>MGNT</th>\n",
              "      <th>TATN</th>\n",
              "      <th>CHMF</th>\n",
              "      <th>NLMK</th>\n",
              "      <th>SNGS</th>\n",
              "      <th>FIVE</th>\n",
              "      <th>MTSS</th>\n",
              "      <th>MOEX</th>\n",
              "      <th>VTBR</th>\n",
              "      <th>SNGSP</th>\n",
              "      <th>OZON</th>\n",
              "      <th>MAIL</th>\n",
              "      <th>PIKK</th>\n",
              "      <th>IRAO</th>\n",
              "      <th>PHOR</th>\n",
              "      <th>MAGN</th>\n",
              "      <th>RUAL</th>\n",
              "      <th>AFKS</th>\n",
              "      <th>TRNFP</th>\n",
              "      <th>HYDR</th>\n",
              "      <th>RTKM</th>\n",
              "      <th>DSKY</th>\n",
              "      <th>AFLT</th>\n",
              "      <th>TATNP</th>\n",
              "      <th>CBOM</th>\n",
              "      <th>FEES</th>\n",
              "      <th>LSRG</th>\n",
              "    </tr>\n",
              "  </thead>\n",
              "  <tbody>\n",
              "    <tr>\n",
              "      <th>2013</th>\n",
              "      <td>-0.0677978</td>\n",
              "      <td>-0.268759</td>\n",
              "      <td>-0.371935</td>\n",
              "      <td>0.323407</td>\n",
              "      <td>-0.25433</td>\n",
              "      <td>0.48243</td>\n",
              "      <td>0.0711206</td>\n",
              "      <td>NaN</td>\n",
              "      <td>-0.00170577</td>\n",
              "      <td>0.535945</td>\n",
              "      <td>0.970289</td>\n",
              "      <td>0.835784</td>\n",
              "      <td>0.178903</td>\n",
              "      <td>0.360593</td>\n",
              "      <td>1.27487</td>\n",
              "      <td>0.530757</td>\n",
              "      <td>0.284055</td>\n",
              "      <td>NaN</td>\n",
              "      <td>-0.197614</td>\n",
              "      <td>0.00487359</td>\n",
              "      <td>0.304587</td>\n",
              "      <td>0.549854</td>\n",
              "      <td>NaN</td>\n",
              "      <td>NaN</td>\n",
              "      <td>1.22197</td>\n",
              "      <td>90.6152</td>\n",
              "      <td>0.72405</td>\n",
              "      <td>1.10505</td>\n",
              "      <td>NaN</td>\n",
              "      <td>-0.626755</td>\n",
              "      <td>0.640883</td>\n",
              "      <td>-0.282778</td>\n",
              "      <td>-0.133311</td>\n",
              "      <td>NaN</td>\n",
              "      <td>-0.422162</td>\n",
              "      <td>0.316635</td>\n",
              "      <td>NaN</td>\n",
              "      <td>0.0546247</td>\n",
              "      <td>0.0808634</td>\n",
              "    </tr>\n",
              "    <tr>\n",
              "      <th>2014</th>\n",
              "      <td>0.0929639</td>\n",
              "      <td>0.708384</td>\n",
              "      <td>0.746007</td>\n",
              "      <td>0.0276045</td>\n",
              "      <td>0.180139</td>\n",
              "      <td>-0.0909971</td>\n",
              "      <td>0.426409</td>\n",
              "      <td>NaN</td>\n",
              "      <td>0.282787</td>\n",
              "      <td>0.473739</td>\n",
              "      <td>2.81145</td>\n",
              "      <td>-0.0588079</td>\n",
              "      <td>0.0423227</td>\n",
              "      <td>0.283274</td>\n",
              "      <td>0.0278072</td>\n",
              "      <td>0.0529087</td>\n",
              "      <td>0.0852281</td>\n",
              "      <td>NaN</td>\n",
              "      <td>-0.0357724</td>\n",
              "      <td>0.51087</td>\n",
              "      <td>0.195238</td>\n",
              "      <td>0.0193639</td>\n",
              "      <td>NaN</td>\n",
              "      <td>NaN</td>\n",
              "      <td>0.282564</td>\n",
              "      <td>0.911129</td>\n",
              "      <td>0.4235</td>\n",
              "      <td>0.507143</td>\n",
              "      <td>NaN</td>\n",
              "      <td>0.0331557</td>\n",
              "      <td>0.444043</td>\n",
              "      <td>0.317869</td>\n",
              "      <td>0.137141</td>\n",
              "      <td>NaN</td>\n",
              "      <td>1.14749</td>\n",
              "      <td>0.224924</td>\n",
              "      <td>NaN</td>\n",
              "      <td>0.174089</td>\n",
              "      <td>-0.0398293</td>\n",
              "    </tr>\n",
              "    <tr>\n",
              "      <th>2015</th>\n",
              "      <td>-0.122945</td>\n",
              "      <td>0.451421</td>\n",
              "      <td>0.539339</td>\n",
              "      <td>0.151628</td>\n",
              "      <td>0.347379</td>\n",
              "      <td>-0.0201299</td>\n",
              "      <td>0.186689</td>\n",
              "      <td>NaN</td>\n",
              "      <td>0.0153622</td>\n",
              "      <td>0.0465116</td>\n",
              "      <td>0.147028</td>\n",
              "      <td>0.285112</td>\n",
              "      <td>-0.126126</td>\n",
              "      <td>0.0364576</td>\n",
              "      <td>0.18227</td>\n",
              "      <td>0.340346</td>\n",
              "      <td>-0.269692</td>\n",
              "      <td>NaN</td>\n",
              "      <td>0.144798</td>\n",
              "      <td>0.0796248</td>\n",
              "      <td>-0.110659</td>\n",
              "      <td>-0.277898</td>\n",
              "      <td>NaN</td>\n",
              "      <td>NaN</td>\n",
              "      <td>0.159352</td>\n",
              "      <td>1.31285</td>\n",
              "      <td>-0.169877</td>\n",
              "      <td>0.619154</td>\n",
              "      <td>0.220126</td>\n",
              "      <td>0.276149</td>\n",
              "      <td>-0.0244565</td>\n",
              "      <td>0.378238</td>\n",
              "      <td>-0.209953</td>\n",
              "      <td>NaN</td>\n",
              "      <td>1.18536</td>\n",
              "      <td>0.0395337</td>\n",
              "      <td>0.129412</td>\n",
              "      <td>1.29187</td>\n",
              "      <td>0.363232</td>\n",
              "    </tr>\n",
              "    <tr>\n",
              "      <th>2016</th>\n",
              "      <td>0.0820572</td>\n",
              "      <td>0.564609</td>\n",
              "      <td>0.669114</td>\n",
              "      <td>0.230248</td>\n",
              "      <td>0.850496</td>\n",
              "      <td>0.197826</td>\n",
              "      <td>0.0195286</td>\n",
              "      <td>NaN</td>\n",
              "      <td>0</td>\n",
              "      <td>-0.174412</td>\n",
              "      <td>0.0763603</td>\n",
              "      <td>-0.00994709</td>\n",
              "      <td>-0.487153</td>\n",
              "      <td>0.67535</td>\n",
              "      <td>0.0606569</td>\n",
              "      <td>0.296021</td>\n",
              "      <td>-0.0202327</td>\n",
              "      <td>NaN</td>\n",
              "      <td>0.120705</td>\n",
              "      <td>0.0447631</td>\n",
              "      <td>-0.200599</td>\n",
              "      <td>-0.0886303</td>\n",
              "      <td>NaN</td>\n",
              "      <td>NaN</td>\n",
              "      <td>0.114336</td>\n",
              "      <td>-0.0734745</td>\n",
              "      <td>-0.00167434</td>\n",
              "      <td>0.179067</td>\n",
              "      <td>0.216354</td>\n",
              "      <td>-0.458636</td>\n",
              "      <td>-0.0946292</td>\n",
              "      <td>-0.194716</td>\n",
              "      <td>-0.122436</td>\n",
              "      <td>0.217089</td>\n",
              "      <td>0.00220126</td>\n",
              "      <td>0.910299</td>\n",
              "      <td>0.10907</td>\n",
              "      <td>-0.058761</td>\n",
              "      <td>-0.0761283</td>\n",
              "    </tr>\n",
              "    <tr>\n",
              "      <th>2017</th>\n",
              "      <td>0.0752113</td>\n",
              "      <td>-0.222672</td>\n",
              "      <td>-0.190204</td>\n",
              "      <td>0.447413</td>\n",
              "      <td>-0.0344163</td>\n",
              "      <td>0.268594</td>\n",
              "      <td>0.413867</td>\n",
              "      <td>NaN</td>\n",
              "      <td>0.266455</td>\n",
              "      <td>0.259459</td>\n",
              "      <td>0.229593</td>\n",
              "      <td>0.0231467</td>\n",
              "      <td>-0.210027</td>\n",
              "      <td>0.183472</td>\n",
              "      <td>0.14263</td>\n",
              "      <td>0.120102</td>\n",
              "      <td>-0.16358</td>\n",
              "      <td>-0.129978</td>\n",
              "      <td>-0.122504</td>\n",
              "      <td>-0.231092</td>\n",
              "      <td>-0.320289</td>\n",
              "      <td>0.324532</td>\n",
              "      <td>NaN</td>\n",
              "      <td>NaN</td>\n",
              "      <td>0.105528</td>\n",
              "      <td>0.0309278</td>\n",
              "      <td>0.098635</td>\n",
              "      <td>0.00713171</td>\n",
              "      <td>-0.0885261</td>\n",
              "      <td>-0.170526</td>\n",
              "      <td>-0.0726761</td>\n",
              "      <td>-0.317439</td>\n",
              "      <td>0.0783383</td>\n",
              "      <td>-0.088866</td>\n",
              "      <td>-0.370635</td>\n",
              "      <td>0.308526</td>\n",
              "      <td>0.237295</td>\n",
              "      <td>-0.0564103</td>\n",
              "      <td>-0.23948</td>\n",
              "    </tr>\n",
              "  </tbody>\n",
              "</table>\n",
              "</div>"
            ],
            "text/plain": [
              "           GAZP      SBER     SBERP  ...      CBOM       FEES       LSRG\n",
              "2013 -0.0677978 -0.268759 -0.371935  ...       NaN  0.0546247  0.0808634\n",
              "2014  0.0929639  0.708384  0.746007  ...       NaN   0.174089 -0.0398293\n",
              "2015  -0.122945  0.451421  0.539339  ...  0.129412    1.29187   0.363232\n",
              "2016  0.0820572  0.564609  0.669114  ...   0.10907  -0.058761 -0.0761283\n",
              "2017  0.0752113 -0.222672 -0.190204  ...  0.237295 -0.0564103   -0.23948\n",
              "\n",
              "[5 rows x 39 columns]"
            ]
          },
          "metadata": {},
          "execution_count": 21
        }
      ]
    },
    {
      "cell_type": "markdown",
      "source": [
        "Правки по значениям акция MAIL и OZON в 2019 г. "
      ],
      "metadata": {
        "id": "_C-X3OQIxZFI"
      }
    },
    {
      "cell_type": "code",
      "source": [
        "df_annual.at[2019, 'MAIL'] = list((df.query(f\"TRADEDATE == Timestamp('2019-12-30 00:00:00')\")['MAIL'] -  df.loc[1525, 'MAIL']) / df.loc[1525, 'MAIL'])[0]\n",
        "df_annual.at[2019, 'OZON'] = list((df.query(f\"TRADEDATE == Timestamp('2019-12-30 00:00:00')\")['OZON'] - df.loc[1627, 'OZON']) / df.loc[1627, 'OZON'])[0]\n"
      ],
      "metadata": {
        "id": "K3ZKua4hl3KF"
      },
      "execution_count": 22,
      "outputs": []
    },
    {
      "cell_type": "markdown",
      "source": [
        "Распределение годовой доходности акций <br>\n",
        "В среднем доходность акций варьировалась от -0.1 до 0.2"
      ],
      "metadata": {
        "id": "JSptfDL3n2BW"
      }
    },
    {
      "cell_type": "markdown",
      "source": [
        "Удаление анномалии в 2013 году (акции ПАО «Интер РАО» выросли в 90 раз)"
      ],
      "metadata": {
        "id": "O3xYaPwToPjA"
      }
    },
    {
      "cell_type": "code",
      "source": [
        "assets_2013_no_IRAO = [x for x in list(df_annual.loc[2013]) if x != 90.61523728452862]"
      ],
      "metadata": {
        "id": "ikWAbIHhmJbT"
      },
      "execution_count": 23,
      "outputs": []
    },
    {
      "cell_type": "code",
      "source": [
        "for year in range(2014, 2021):\n",
        "    \n",
        "    plt.hist(list(df_annual.loc[year]))\n",
        "    plt.xlabel('APC', size=10)\n",
        "    plt.title(f'Распределение годовой доходности акций за {year}')\n",
        "    plt.show()\n"
      ],
      "metadata": {
        "colab": {
          "base_uri": "https://localhost:8080/",
          "height": 1000
        },
        "id": "DjsxLzUKezMM",
        "outputId": "26099984-1661-479a-80bf-5efadac4a9e2"
      },
      "execution_count": 49,
      "outputs": [
        {
          "output_type": "display_data",
          "data": {
            "image/png": "[encoded data removed]",
            "text/plain": [
              "<Figure size 432x288 with 1 Axes>"
            ]
          },
          "metadata": {
            "needs_background": "light"
          }
        },
        {
          "output_type": "display_data",
          "data": {
            "image/png": "[encoded data removed]",
            "text/plain": [
              "<Figure size 432x288 with 1 Axes>"
            ]
          },
          "metadata": {
            "needs_background": "light"
          }
        },
        {
          "output_type": "display_data",
          "data": {
            "image/png": "[encoded data removed]",
            "text/plain": [
              "<Figure size 432x288 with 1 Axes>"
            ]
          },
          "metadata": {
            "needs_background": "light"
          }
        },
        {
          "output_type": "display_data",
          "data": {
            "image/png": "[encoded data removed]",
            "text/plain": [
              "<Figure size 432x288 with 1 Axes>"
            ]
          },
          "metadata": {
            "needs_background": "light"
          }
        },
        {
          "output_type": "display_data",
          "data": {
            "image/png": "[encoded data removed]",
            "text/plain": [
              "<Figure size 432x288 with 1 Axes>"
            ]
          },
          "metadata": {
            "needs_background": "light"
          }
        },
        {
          "output_type": "display_data",
          "data": {
            "image/png": "[encoded data removed]",
            "text/plain": [
              "<Figure size 432x288 with 1 Axes>"
            ]
          },
          "metadata": {
            "needs_background": "light"
          }
        },
        {
          "output_type": "display_data",
          "data": {
            "image/png": "[encoded data removed]",
            "text/plain": [
              "<Figure size 432x288 with 1 Axes>"
            ]
          },
          "metadata": {
            "needs_background": "light"
          }
        }
      ]
    },
    {
      "cell_type": "markdown",
      "source": [
        "**Изучение годовой доходности понятных и непонятных акций** "
      ],
      "metadata": {
        "id": "cEJixC1Hro3R"
      }
    },
    {
      "cell_type": "markdown",
      "source": [
        "*   Изучение годовой доходности понятных акций\n",
        "\n",
        "\n",
        "\n"
      ],
      "metadata": {
        "id": "WhLVCr1Fribb"
      }
    },
    {
      "cell_type": "code",
      "source": [
        "all_years_compr = []\n",
        "for year in range(2013, 2021):\n",
        "  if year == 2013:\n",
        "    its = np.nanmean(list(df_annual[comprehensible].drop('IRAO', axis=1).loc[year]))\n",
        "    print(str(year) + ': ' + str(round(its, 2)))\n",
        "    all_years_compr.append(its)\n",
        "  else:\n",
        "    its = np.nanmean(list(df_annual[comprehensible].loc[year]))\n",
        "    all_years_compr.append(its)\n",
        "    print(str(year) + ': ' + str(round(its, 2)))"
      ],
      "metadata": {
        "colab": {
          "base_uri": "https://localhost:8080/"
        },
        "id": "4KCg_Namriq1",
        "outputId": "2ca523d0-b4d6-40fe-9c05-bfc124d697a2"
      },
      "execution_count": 25,
      "outputs": [
        {
          "output_type": "stream",
          "name": "stdout",
          "text": [
            "2013: 0.19\n",
            "2014: 0.32\n",
            "2015: 0.29\n",
            "2016: 0.13\n",
            "2017: -0.02\n",
            "2018: -0.12\n",
            "2019: 0.58\n",
            "2020: -0.47\n"
          ]
        }
      ]
    },
    {
      "cell_type": "markdown",
      "source": [
        "*   Изучение годовой доходности непонятных акций"
      ],
      "metadata": {
        "id": "sUo_kBU9sB2X"
      }
    },
    {
      "cell_type": "code",
      "source": [
        "all_years_incompr = []\n",
        "for year in range(2013, 2021):\n",
        "  its = np.nanmean(list(df_annual[incomprehensible].loc[year]))\n",
        "  all_years_incompr.append(round(its, 2))\n",
        "  print(str(year) + ': ' + str(round(its, 2)))"
      ],
      "metadata": {
        "colab": {
          "base_uri": "https://localhost:8080/"
        },
        "id": "Nw712IMCpIjD",
        "outputId": "ee823f25-4438-4c1d-ddbb-90c0bf6625f2"
      },
      "execution_count": 26,
      "outputs": [
        {
          "output_type": "stream",
          "name": "stdout",
          "text": [
            "2013: 0.38\n",
            "2014: 0.41\n",
            "2015: 0.13\n",
            "2016: 0.07\n",
            "2017: 0.07\n",
            "2018: -0.15\n",
            "2019: 0.76\n",
            "2020: -0.37\n"
          ]
        }
      ]
    },
    {
      "cell_type": "markdown",
      "source": [
        "Визуализация годовой доходности акций "
      ],
      "metadata": {
        "id": "XGWAQBhrsH-f"
      }
    },
    {
      "cell_type": "code",
      "source": [
        "plt.plot([x for x in range(2013, 2021)] ,all_years_compr)\n",
        "plt.plot([x for x in range(2013, 2021)] ,all_years_incompr)\n",
        "\n",
        "plt.legend(['Понятные тиккеры', 'Непонятные тиккеры'])\n",
        "plt.ylabel('APC')\n",
        "plt.show()"
      ],
      "metadata": {
        "colab": {
          "base_uri": "https://localhost:8080/",
          "height": 266
        },
        "id": "GHN-c2yCsFYP",
        "outputId": "365c2f53-aa87-49f1-e544-2d6c32a23bc2"
      },
      "execution_count": 27,
      "outputs": [
        {
          "output_type": "display_data",
          "data": {
            "image/png": "[encoded data removed]",
            "text/plain": [
              "<Figure size 432x288 with 1 Axes>"
            ]
          },
          "metadata": {
            "needs_background": "light"
          }
        }
      ]
    },
    {
      "cell_type": "markdown",
      "source": [
        "Расчет статистической значимости для определения различия структур <br>(понятных и непонятных акций)<br>\n",
        "**Нулевая гипотеза** - структуры не имеют значительных различий\n",
        "\n"
      ],
      "metadata": {
        "id": "o0FA1Av2ou_a"
      }
    },
    {
      "cell_type": "code",
      "source": [
        "from scipy.stats import ttest_ind"
      ],
      "metadata": {
        "id": "j7mRgqrYo15z"
      },
      "execution_count": 28,
      "outputs": []
    },
    {
      "cell_type": "code",
      "source": [
        "print('P-VALUE')\n",
        "for year in range(2013, 2021):\n",
        "  print(year, 'p-value:', round(ttest_ind(list(df_annual.loc[year, comprehensible]), list(df_annual.loc[year, incomprehensible]), equal_var=False, nan_policy='omit')[1], 2))"
      ],
      "metadata": {
        "colab": {
          "base_uri": "https://localhost:8080/"
        },
        "id": "9IcoNfL2pFmt",
        "outputId": "a0322b9f-7c50-4aa2-943f-98120ac56a0e"
      },
      "execution_count": 29,
      "outputs": [
        {
          "output_type": "stream",
          "name": "stdout",
          "text": [
            "P-VALUE\n",
            "2013 p-value: 0.35\n",
            "2014 p-value: 0.75\n",
            "2015 p-value: 0.24\n",
            "2016 p-value: 0.54\n",
            "2017 p-value: 0.27\n",
            "2018 p-value: 0.76\n",
            "2019 p-value: 0.44\n",
            "2020 p-value: 0.6\n"
          ]
        }
      ]
    },
    {
      "cell_type": "markdown",
      "source": [
        "Значения **p-value** за рассматриваемые года > 0.05 <br>\n",
        "Нулевая гипотеза не может быть отвергнута"
      ],
      "metadata": {
        "id": "JxN4f8UStZM3"
      }
    },
    {
      "cell_type": "markdown",
      "source": [
        "### Рассмотрение зависимости положения первой буквы тиккера в алфавите и ее годовой доходности"
      ],
      "metadata": {
        "id": "uofaLgpSsq2R"
      }
    },
    {
      "cell_type": "markdown",
      "source": [
        "Для определения корреляции используется коэффициент Спирмена и Кендалла"
      ],
      "metadata": {
        "id": "7gjSq4Pfu89F"
      }
    },
    {
      "cell_type": "markdown",
      "source": [
        "Ранжирование: <br> \n",
        "\n",
        "1.   Акций по алфавиту \n",
        "2.   Акций по годовой доходности\n"
      ],
      "metadata": {
        "id": "4ZBquaL_uY2n"
      }
    },
    {
      "cell_type": "code",
      "source": [
        "def corr_rang(year, type='kendall'):\n",
        "  tags_sorted = list(tag.index.sort_values())\n",
        "  sorted_stocks = pd.DataFrame(index=tags_sorted, columns=['Rangs'])\n",
        "  sorted_stocks['Rangs_letters'] = [x for x in range(1, 40)]\n",
        "  df_rang = df_annual.T[[year]].sort_values(by=int(year), ascending=False)\n",
        "  df_rang['Rangs_profit'] = [x for x in range(1, 40)]\n",
        "  rangs_let_profit = sorted_stocks[['Rangs_letters']].join(df_rang['Rangs_profit'])\n",
        "  if type == 'spearman':\n",
        "    return round(rangs_let_profit.corr(method='spearman').iloc[1,0], 2)\n",
        "  else:\n",
        "    return round(rangs_let_profit.corr(method='kendall').iloc[1,0], 2)"
      ],
      "metadata": {
        "id": "CGm5e4Ors7wr"
      },
      "execution_count": 30,
      "outputs": []
    },
    {
      "cell_type": "markdown",
      "source": [
        "Корреляция по годам "
      ],
      "metadata": {
        "id": "CG-fzscJvH64"
      }
    },
    {
      "cell_type": "markdown",
      "source": [
        "\n",
        "*   Корреляция Кендалла\n",
        "\n"
      ],
      "metadata": {
        "id": "YedI_55Kwf8R"
      }
    },
    {
      "cell_type": "code",
      "source": [
        "for year in range(2013, 2021):\n",
        "  print(str(year) + ' correlation: ' + str(corr_rang(year)))"
      ],
      "metadata": {
        "colab": {
          "base_uri": "https://localhost:8080/"
        },
        "id": "5-WTmGWDvNZo",
        "outputId": "98a28f88-e939-4da6-911d-031b1796d8a6"
      },
      "execution_count": 31,
      "outputs": [
        {
          "output_type": "stream",
          "name": "stdout",
          "text": [
            "2013 correlation: -0.07\n",
            "2014 correlation: -0.17\n",
            "2015 correlation: 0.17\n",
            "2016 correlation: -0.1\n",
            "2017 correlation: -0.04\n",
            "2018 correlation: 0.05\n",
            "2019 correlation: 0.03\n",
            "2020 correlation: -0.16\n"
          ]
        }
      ]
    },
    {
      "cell_type": "markdown",
      "source": [
        "*   Корреляция Спирмена"
      ],
      "metadata": {
        "id": "PuuR4LqHwm_C"
      }
    },
    {
      "cell_type": "code",
      "source": [
        "for year in range(2013, 2021):\n",
        "  print(str(year) + ' correlation: ' + str(corr_rang(year, 'spearman')))"
      ],
      "metadata": {
        "colab": {
          "base_uri": "https://localhost:8080/"
        },
        "id": "Fs_VB7PTv9rc",
        "outputId": "31169360-c72d-4eef-bfb0-a5687b72eb8b"
      },
      "execution_count": 32,
      "outputs": [
        {
          "output_type": "stream",
          "name": "stdout",
          "text": [
            "2013 correlation: -0.12\n",
            "2014 correlation: -0.26\n",
            "2015 correlation: 0.24\n",
            "2016 correlation: -0.13\n",
            "2017 correlation: -0.04\n",
            "2018 correlation: 0.08\n",
            "2019 correlation: 0.04\n",
            "2020 correlation: -0.22\n"
          ]
        }
      ]
    },
    {
      "cell_type": "markdown",
      "source": [
        "Корреляция, как Кендалла, так и Спирмена невелика <br>\n",
        "Не можем говорить о зависимости положения первой буквы тиккеры в алфавите и ее годовой доходности"
      ],
      "metadata": {
        "id": "WlFNDFnpwxXE"
      }
    },
    {
      "cell_type": "markdown",
      "source": [
        "\n",
        "### **Выводы:** <br>\n",
        "*   Зависимость между понятностью тиккера и его годовой доходностью не была выявлена\n",
        "*   Зависимость между расположением первой буквы тиккера в алфавите и его годовой доходностью не была выявлена\n"
      ],
      "metadata": {
        "id": "Ql06JMuZ1jJ1"
      }
    }
  ]
}